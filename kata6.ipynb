{
 "cells": [
  {
   "cell_type": "markdown",
   "metadata": {},
   "source": [
    "# Kata6"
   ]
  },
  {
   "cell_type": "markdown",
   "metadata": {},
   "source": [
    "Crear y usar listas de Python"
   ]
  },
  {
   "cell_type": "code",
   "execution_count": 7,
   "metadata": {},
   "outputs": [
    {
     "name": "stdout",
     "output_type": "stream",
     "text": [
      "Hay 8 planetas\n"
     ]
    }
   ],
   "source": [
    "planetas = ['Mercurio', 'Venus', 'Tierra', 'Marte', 'Jupiter', 'Saturno', 'Urano', 'Neptuno']\n",
    "\n",
    "print('Hay', len(planetas), 'planetas')\n"
   ]
  },
  {
   "cell_type": "code",
   "execution_count": 8,
   "metadata": {},
   "outputs": [
    {
     "name": "stdout",
     "output_type": "stream",
     "text": [
      "Pluto es el ultimo planeta\n"
     ]
    }
   ],
   "source": [
    "planetas.append('Pluton')\n",
    "print(planetas[-1], 'es el ultimo planeta')"
   ]
  },
  {
   "cell_type": "markdown",
   "metadata": {},
   "source": [
    "Trabajando con datos de una lista"
   ]
  },
  {
   "cell_type": "code",
   "execution_count": 11,
   "metadata": {},
   "outputs": [
    {
     "name": "stdout",
     "output_type": "stream",
     "text": [
      "El planeta solicitado es el  4 ° del sistema solar\n"
     ]
    }
   ],
   "source": [
    "planetas = ['Mercurio', 'Venus', 'Tierra', 'Marte', 'Jupiter', 'Saturno', 'Urano', 'Neptuno']\n",
    "soliusr=input(\"Solicite un planeta empezando por mayusucla (ejmp: Tierra)\")\n",
    "solindx= planetas.index(soliusr)\n",
    "print('El planeta solicitado es el ', solindx+1,'° del sistema solar' )\n",
    "\n"
   ]
  },
  {
   "cell_type": "code",
   "execution_count": 13,
   "metadata": {},
   "outputs": [
    {
     "name": "stdout",
     "output_type": "stream",
     "text": [
      "Los planetas  ['Mercurio', 'Venus', 'Tierra']  están más cerca del sol que Marte\n"
     ]
    }
   ],
   "source": [
    "print('Los planetas ', planetas[0:solindx], ' están más cerca del sol que', soliusr)"
   ]
  },
  {
   "cell_type": "code",
   "execution_count": 14,
   "metadata": {},
   "outputs": [
    {
     "name": "stdout",
     "output_type": "stream",
     "text": [
      "Los planetas  ['Jupiter', 'Saturno', 'Urano', 'Neptuno']  están más lejos del sol que Marte\n"
     ]
    }
   ],
   "source": [
    "print('Los planetas ', planetas[solindx+1:], ' están más lejos del sol que', soliusr)"
   ]
  }
 ],
 "metadata": {
  "interpreter": {
   "hash": "76c3578c29ceca0b5457975dec8a2ee8386de51a8afafc497c31b8e63e41841a"
  },
  "kernelspec": {
   "display_name": "Python 3.9.10 64-bit (windows store)",
   "language": "python",
   "name": "python3"
  },
  "language_info": {
   "codemirror_mode": {
    "name": "ipython",
    "version": 3
   },
   "file_extension": ".py",
   "mimetype": "text/x-python",
   "name": "python",
   "nbconvert_exporter": "python",
   "pygments_lexer": "ipython3",
   "version": "3.9.10"
  },
  "orig_nbformat": 4
 },
 "nbformat": 4,
 "nbformat_minor": 2
}
