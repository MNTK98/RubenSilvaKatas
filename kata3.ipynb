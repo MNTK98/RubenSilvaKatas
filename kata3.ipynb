{
 "cells": [
  {
   "cell_type": "markdown",
   "metadata": {},
   "source": [
    "# Kata3\n"
   ]
  },
  {
   "cell_type": "markdown",
   "metadata": {},
   "source": [
    "Ejercicio if, else, y elif\n"
   ]
  },
  {
   "cell_type": "code",
   "execution_count": 5,
   "metadata": {},
   "outputs": [
    {
     "name": "stdout",
     "output_type": "stream",
     "text": [
      "PELIGRO!\n"
     ]
    }
   ],
   "source": [
    "panik = 26\n",
    "vel= 49\n",
    "if vel >= panik:\n",
    "    print(\"PELIGRO!\")\n",
    "else:\n",
    "    print(\"Sin peligro\")    "
   ]
  },
  {
   "cell_type": "code",
   "execution_count": 4,
   "metadata": {},
   "outputs": [
    {
     "name": "stdout",
     "output_type": "stream",
     "text": [
      "Mejor ni salgas\n"
     ]
    }
   ],
   "source": [
    "luz=20\n",
    "ast=19\n",
    "if ast == luz:\n",
    "    print(\"Mira al cielo\")\n",
    "elif ast<luz:\n",
    "    print(\"Mejor ni salgas\")\n",
    "else:\n",
    "    print(\"Mira al cielo!\")\n"
   ]
  },
  {
   "cell_type": "markdown",
   "metadata": {},
   "source": [
    "Uso de operadores and y or"
   ]
  },
  {
   "cell_type": "code",
   "execution_count": 36,
   "metadata": {},
   "outputs": [
    {
     "name": "stdout",
     "output_type": "stream",
     "text": [
      "No pasa nada\n"
     ]
    }
   ],
   "source": [
    "tam=24\n",
    "spd=1\n",
    "if spd >25 or tam >25:      \n",
    "    print(\"PELIGRO!\")\n",
    "elif spd <20 and tam > 25:\n",
    "    print(\"Peligro invisible en el cielo\")\n",
    "elif spd>=20 and spd <=25:\n",
    "    print(\"Mira la luz!\") \n",
    "else:\n",
    "    print(\"No pasa nada\")\n"
   ]
  }
 ],
 "metadata": {
  "interpreter": {
   "hash": "76c3578c29ceca0b5457975dec8a2ee8386de51a8afafc497c31b8e63e41841a"
  },
  "kernelspec": {
   "display_name": "Python 3.9.10 64-bit (windows store)",
   "language": "python",
   "name": "python3"
  },
  "language_info": {
   "codemirror_mode": {
    "name": "ipython",
    "version": 3
   },
   "file_extension": ".py",
   "mimetype": "text/x-python",
   "name": "python",
   "nbconvert_exporter": "python",
   "pygments_lexer": "ipython3",
   "version": "3.9.10"
  },
  "orig_nbformat": 4
 },
 "nbformat": 4,
 "nbformat_minor": 2
}
